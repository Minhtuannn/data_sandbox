{
 "cells": [
  {
   "cell_type": "code",
   "execution_count": 232,
   "metadata": {},
   "outputs": [],
   "source": [
    "import keras"
   ]
  },
  {
   "cell_type": "code",
   "execution_count": 233,
   "metadata": {},
   "outputs": [
    {
     "data": {
      "text/html": [
       "<div>\n",
       "<style scoped>\n",
       "    .dataframe tbody tr th:only-of-type {\n",
       "        vertical-align: middle;\n",
       "    }\n",
       "\n",
       "    .dataframe tbody tr th {\n",
       "        vertical-align: top;\n",
       "    }\n",
       "\n",
       "    .dataframe thead th {\n",
       "        text-align: right;\n",
       "    }\n",
       "</style>\n",
       "<table border=\"1\" class=\"dataframe\">\n",
       "  <thead>\n",
       "    <tr style=\"text-align: right;\">\n",
       "      <th></th>\n",
       "      <th>deceptive</th>\n",
       "      <th>hotel</th>\n",
       "      <th>positive</th>\n",
       "      <th>tripadvisor</th>\n",
       "      <th>web</th>\n",
       "      <th>mturk</th>\n",
       "      <th>text</th>\n",
       "    </tr>\n",
       "  </thead>\n",
       "  <tbody>\n",
       "    <tr>\n",
       "      <th>0</th>\n",
       "      <td>0</td>\n",
       "      <td>conrad</td>\n",
       "      <td>1</td>\n",
       "      <td>1</td>\n",
       "      <td>0</td>\n",
       "      <td>0</td>\n",
       "      <td>We stayed for a one night getaway with family ...</td>\n",
       "    </tr>\n",
       "    <tr>\n",
       "      <th>1</th>\n",
       "      <td>0</td>\n",
       "      <td>hyatt</td>\n",
       "      <td>1</td>\n",
       "      <td>1</td>\n",
       "      <td>0</td>\n",
       "      <td>0</td>\n",
       "      <td>Triple A rate with upgrade to view room was le...</td>\n",
       "    </tr>\n",
       "    <tr>\n",
       "      <th>2</th>\n",
       "      <td>0</td>\n",
       "      <td>hyatt</td>\n",
       "      <td>1</td>\n",
       "      <td>1</td>\n",
       "      <td>0</td>\n",
       "      <td>0</td>\n",
       "      <td>This comes a little late as I'm finally catchi...</td>\n",
       "    </tr>\n",
       "    <tr>\n",
       "      <th>3</th>\n",
       "      <td>0</td>\n",
       "      <td>omni</td>\n",
       "      <td>1</td>\n",
       "      <td>1</td>\n",
       "      <td>0</td>\n",
       "      <td>0</td>\n",
       "      <td>The Omni Chicago really delivers on all fronts...</td>\n",
       "    </tr>\n",
       "    <tr>\n",
       "      <th>4</th>\n",
       "      <td>0</td>\n",
       "      <td>hyatt</td>\n",
       "      <td>1</td>\n",
       "      <td>1</td>\n",
       "      <td>0</td>\n",
       "      <td>0</td>\n",
       "      <td>I asked for a high floor away from the elevato...</td>\n",
       "    </tr>\n",
       "  </tbody>\n",
       "</table>\n",
       "</div>"
      ],
      "text/plain": [
       "   deceptive   hotel  positive  tripadvisor  web  mturk  \\\n",
       "0          0  conrad         1            1    0      0   \n",
       "1          0   hyatt         1            1    0      0   \n",
       "2          0   hyatt         1            1    0      0   \n",
       "3          0    omni         1            1    0      0   \n",
       "4          0   hyatt         1            1    0      0   \n",
       "\n",
       "                                                text  \n",
       "0  We stayed for a one night getaway with family ...  \n",
       "1  Triple A rate with upgrade to view room was le...  \n",
       "2  This comes a little late as I'm finally catchi...  \n",
       "3  The Omni Chicago really delivers on all fronts...  \n",
       "4  I asked for a high floor away from the elevato...  "
      ]
     },
     "execution_count": 233,
     "metadata": {},
     "output_type": "execute_result"
    }
   ],
   "source": [
    "import pandas as pd\n",
    "\n",
    "train_df = pd.read_csv('/Users/jonathan/Desktop/deceptive-opinion.csv')\n",
    "train_df.head()"
   ]
  },
  {
   "cell_type": "code",
   "execution_count": 234,
   "metadata": {},
   "outputs": [
    {
     "name": "stdout",
     "output_type": "stream",
     "text": [
      "Triple A rate with upgrade to view room was less than $200 which also included breakfast vouchers. Had a great view of river, lake, Wrigley Bldg. & Tribune Bldg. Most major restaurants, Shopping, Sightseeing attractions within walking distance. Large room with a very comfortable bed. \n",
      "0\n"
     ]
    }
   ],
   "source": [
    "#separate the data into the review text and deceptive label. Features are denoted F here so that they can be vecorized\n",
    "F, y = train_df['text'], train_df['deceptive']\n",
    "print(F[1]+str(y[1]))"
   ]
  },
  {
   "cell_type": "code",
   "execution_count": 235,
   "metadata": {},
   "outputs": [],
   "source": [
    "from sklearn.feature_extraction.text import CountVectorizer\n",
    "\n",
    "vectorizer = CountVectorizer(stop_words ='english')\n",
    "X = vectorizer.fit_transform(F).toarray()\n"
   ]
  },
  {
   "cell_type": "code",
   "execution_count": 236,
   "metadata": {},
   "outputs": [],
   "source": [
    "#import train/test split module\n",
    "from sklearn.model_selection import train_test_split\n",
    "\n",
    "# split data into train and test sets\n",
    "seed = 7\n",
    "test_size = 0.2\n",
    "X_train, X_test, y_train, y_test = train_test_split(X, y, test_size=test_size)\n"
   ]
  },
  {
   "cell_type": "code",
   "execution_count": 237,
   "metadata": {},
   "outputs": [],
   "source": [
    "# Our vectorized training data\n",
    "X_trainV = np.asarray(X_train).astype('float32')\n",
    "# Our vectorized test data\n",
    "X_testV = np.asarray(X_test).astype('float32')"
   ]
  },
  {
   "cell_type": "code",
   "execution_count": 238,
   "metadata": {},
   "outputs": [
    {
     "data": {
      "text/plain": [
       "0.0"
      ]
     },
     "execution_count": 238,
     "metadata": {},
     "output_type": "execute_result"
    }
   ],
   "source": [
    "# Our vectorized labels\n",
    "y_trainV = np.asarray(y_train).astype('float32')\n",
    "y_testV = np.asarray(y_test).astype('float32')\n",
    "y_trainV[1]"
   ]
  },
  {
   "cell_type": "code",
   "execution_count": 239,
   "metadata": {},
   "outputs": [],
   "source": [
    "from keras import models\n",
    "from keras import layers\n",
    "\n",
    "model = models.Sequential()\n",
    "model.add(layers.Dense(64, activation='relu', input_shape=(9284,)))\n",
    "model.add(layers.Dense(64, activation='relu'))\n",
    "model.add(layers.Dense(1, activation='sigmoid'))"
   ]
  },
  {
   "cell_type": "code",
   "execution_count": 240,
   "metadata": {},
   "outputs": [],
   "source": [
    "model.compile(optimizer='rmsprop',\n",
    "              loss='binary_crossentropy',\n",
    "              metrics=['accuracy'])"
   ]
  },
  {
   "cell_type": "code",
   "execution_count": 241,
   "metadata": {},
   "outputs": [],
   "source": [
    "from keras import optimizers\n",
    "\n",
    "model.compile(optimizer=optimizers.RMSprop(lr=0.001),\n",
    "              loss='mse',\n",
    "              metrics=['accuracy'])"
   ]
  },
  {
   "cell_type": "code",
   "execution_count": 242,
   "metadata": {},
   "outputs": [],
   "source": [
    "from keras import losses\n",
    "from keras import metrics\n",
    "\n",
    "model.compile(optimizer=optimizers.RMSprop(lr=0.001),\n",
    "              loss=losses.binary_crossentropy,\n",
    "              metrics=[metrics.binary_accuracy])"
   ]
  },
  {
   "cell_type": "code",
   "execution_count": 243,
   "metadata": {},
   "outputs": [],
   "source": [
    "x_val = X_trainV[:320]\n",
    "partial_x_train = X_trainV[320:]\n",
    "\n",
    "y_val = y_trainV[:320]\n",
    "partial_y_train = y_trainV[320:]"
   ]
  },
  {
   "cell_type": "code",
   "execution_count": 244,
   "metadata": {},
   "outputs": [
    {
     "name": "stdout",
     "output_type": "stream",
     "text": [
      "Train on 1280 samples, validate on 320 samples\n",
      "Epoch 1/20\n",
      "1280/1280 [==============================] - 1s 680us/step - loss: 0.5773 - binary_accuracy: 0.7602 - val_loss: 0.3139 - val_binary_accuracy: 0.9406\n",
      "Epoch 2/20\n",
      "1280/1280 [==============================] - 0s 109us/step - loss: 0.2490 - binary_accuracy: 0.9398 - val_loss: 0.1236 - val_binary_accuracy: 0.9844\n",
      "Epoch 3/20\n",
      "1280/1280 [==============================] - 0s 114us/step - loss: 0.1118 - binary_accuracy: 0.9766 - val_loss: 0.0549 - val_binary_accuracy: 0.9938\n",
      "Epoch 4/20\n",
      "1280/1280 [==============================] - 0s 131us/step - loss: 0.0525 - binary_accuracy: 0.9930 - val_loss: 0.0242 - val_binary_accuracy: 1.0000\n",
      "Epoch 5/20\n",
      "1280/1280 [==============================] - 0s 125us/step - loss: 0.0241 - binary_accuracy: 0.9984 - val_loss: 0.0099 - val_binary_accuracy: 1.0000\n",
      "Epoch 6/20\n",
      "1280/1280 [==============================] - 0s 108us/step - loss: 0.0108 - binary_accuracy: 1.0000 - val_loss: 0.0052 - val_binary_accuracy: 1.0000\n",
      "Epoch 7/20\n",
      "1280/1280 [==============================] - 0s 117us/step - loss: 0.0050 - binary_accuracy: 1.0000 - val_loss: 0.0021 - val_binary_accuracy: 1.0000\n",
      "Epoch 8/20\n",
      "1280/1280 [==============================] - 0s 101us/step - loss: 0.0022 - binary_accuracy: 1.0000 - val_loss: 9.9103e-04 - val_binary_accuracy: 1.0000\n",
      "Epoch 9/20\n",
      "1280/1280 [==============================] - 0s 109us/step - loss: 0.0011 - binary_accuracy: 1.0000 - val_loss: 4.5763e-04 - val_binary_accuracy: 1.0000\n",
      "Epoch 10/20\n",
      "1280/1280 [==============================] - 0s 122us/step - loss: 5.0054e-04 - binary_accuracy: 1.0000 - val_loss: 2.3213e-04 - val_binary_accuracy: 1.0000\n",
      "Epoch 11/20\n",
      "1280/1280 [==============================] - 0s 110us/step - loss: 2.4149e-04 - binary_accuracy: 1.0000 - val_loss: 1.0659e-04 - val_binary_accuracy: 1.0000\n",
      "Epoch 12/20\n",
      "1280/1280 [==============================] - 0s 135us/step - loss: 1.1493e-04 - binary_accuracy: 1.0000 - val_loss: 4.8258e-05 - val_binary_accuracy: 1.0000\n",
      "Epoch 13/20\n",
      "1280/1280 [==============================] - 0s 123us/step - loss: 5.4180e-05 - binary_accuracy: 1.0000 - val_loss: 2.0588e-05 - val_binary_accuracy: 1.0000\n",
      "Epoch 14/20\n",
      "1280/1280 [==============================] - 0s 100us/step - loss: 2.6442e-05 - binary_accuracy: 1.0000 - val_loss: 1.0148e-05 - val_binary_accuracy: 1.0000\n",
      "Epoch 15/20\n",
      "1280/1280 [==============================] - 0s 109us/step - loss: 1.3139e-05 - binary_accuracy: 1.0000 - val_loss: 4.8519e-06 - val_binary_accuracy: 1.0000\n",
      "Epoch 16/20\n",
      "1280/1280 [==============================] - 0s 141us/step - loss: 6.4606e-06 - binary_accuracy: 1.0000 - val_loss: 2.5563e-06 - val_binary_accuracy: 1.0000\n",
      "Epoch 17/20\n",
      "1280/1280 [==============================] - 0s 106us/step - loss: 3.2018e-06 - binary_accuracy: 1.0000 - val_loss: 1.3074e-06 - val_binary_accuracy: 1.0000\n",
      "Epoch 18/20\n",
      "1280/1280 [==============================] - 0s 92us/step - loss: 1.6883e-06 - binary_accuracy: 1.0000 - val_loss: 7.5020e-07 - val_binary_accuracy: 1.0000\n",
      "Epoch 19/20\n",
      "1280/1280 [==============================] - 0s 105us/step - loss: 9.4934e-07 - binary_accuracy: 1.0000 - val_loss: 4.5496e-07 - val_binary_accuracy: 1.0000\n",
      "Epoch 20/20\n",
      "1280/1280 [==============================] - 0s 108us/step - loss: 5.6810e-07 - binary_accuracy: 1.0000 - val_loss: 3.0807e-07 - val_binary_accuracy: 1.0000\n"
     ]
    }
   ],
   "source": [
    "history = model.fit(X_trainV,\n",
    "                    y_trainV,\n",
    "                    epochs=20,\n",
    "                    batch_size=100,\n",
    "                    validation_data=(x_val, y_val))"
   ]
  },
  {
   "cell_type": "code",
   "execution_count": 245,
   "metadata": {},
   "outputs": [
    {
     "data": {
      "text/plain": [
       "dict_keys(['val_loss', 'val_binary_accuracy', 'loss', 'binary_accuracy'])"
      ]
     },
     "execution_count": 245,
     "metadata": {},
     "output_type": "execute_result"
    }
   ],
   "source": [
    "history_dict = history.history\n",
    "history_dict.keys()"
   ]
  },
  {
   "cell_type": "code",
   "execution_count": 246,
   "metadata": {},
   "outputs": [
    {
     "data": {
      "image/png": "[encoded data removed]",
      "text/plain": [
       "<Figure size 432x288 with 1 Axes>"
      ]
     },
     "metadata": {},
     "output_type": "display_data"
    }
   ],
   "source": [
    "import matplotlib.pyplot as plt\n",
    "\n",
    "acc = history.history['binary_accuracy']\n",
    "val_acc = history.history['val_binary_accuracy']\n",
    "loss = history.history['loss']\n",
    "val_loss = history.history['val_loss']\n",
    "\n",
    "epochs = range(1, len(acc) + 1)\n",
    "\n",
    "# \"bo\" is for \"blue dot\"\n",
    "plt.plot(epochs, loss, 'bo', label='Training loss')\n",
    "# b is for \"solid blue line\"\n",
    "plt.plot(epochs, val_loss, 'b', label='Validation loss')\n",
    "plt.title('Training and validation loss')\n",
    "plt.xlabel('Epochs')\n",
    "plt.ylabel('Loss')\n",
    "plt.legend()\n",
    "\n",
    "plt.show()"
   ]
  },
  {
   "cell_type": "code",
   "execution_count": 247,
   "metadata": {},
   "outputs": [
    {
     "data": {
      "image/png": "[encoded data removed]",
      "text/plain": [
       "<Figure size 432x288 with 1 Axes>"
      ]
     },
     "metadata": {},
     "output_type": "display_data"
    }
   ],
   "source": [
    "plt.clf()   # clear figure\n",
    "acc_values = history_dict['binary_accuracy']\n",
    "val_acc_values = history_dict['val_binary_accuracy']\n",
    "\n",
    "plt.plot(epochs, acc, 'bo', label='Training acc')\n",
    "plt.plot(epochs, val_acc, 'b', label='Validation acc')\n",
    "plt.title('Training and validation accuracy')\n",
    "plt.xlabel('Epochs')\n",
    "plt.ylabel('Acc')\n",
    "plt.legend()\n",
    "\n",
    "plt.show()"
   ]
  },
  {
   "cell_type": "code",
   "execution_count": 248,
   "metadata": {
    "scrolled": true
   },
   "outputs": [
    {
     "name": "stdout",
     "output_type": "stream",
     "text": [
      "Train on 1280 samples, validate on 320 samples\n",
      "Epoch 1/18\n",
      "1280/1280 [==============================] - 1s 1ms/step - loss: 0.4951 - acc: 0.7859 - val_loss: 0.1609 - val_acc: 0.9656\n",
      "Epoch 2/18\n",
      "1280/1280 [==============================] - 1s 392us/step - loss: 0.1264 - acc: 0.9617 - val_loss: 0.0367 - val_acc: 0.9969\n",
      "Epoch 3/18\n",
      "1280/1280 [==============================] - 0s 348us/step - loss: 0.0344 - acc: 0.9906 - val_loss: 0.0074 - val_acc: 1.0000\n",
      "Epoch 4/18\n",
      "1280/1280 [==============================] - 0s 324us/step - loss: 0.0069 - acc: 1.0000 - val_loss: 0.0018 - val_acc: 1.0000\n",
      "Epoch 5/18\n",
      "1280/1280 [==============================] - 0s 309us/step - loss: 0.0016 - acc: 1.0000 - val_loss: 3.1516e-04 - val_acc: 1.0000\n",
      "Epoch 6/18\n",
      "1280/1280 [==============================] - 0s 343us/step - loss: 3.3726e-04 - acc: 1.0000 - val_loss: 8.1098e-05 - val_acc: 1.0000\n",
      "Epoch 7/18\n",
      "1280/1280 [==============================] - 0s 316us/step - loss: 7.8628e-05 - acc: 1.0000 - val_loss: 1.9254e-05 - val_acc: 1.0000\n",
      "Epoch 8/18\n",
      "1280/1280 [==============================] - 0s 329us/step - loss: 1.9421e-05 - acc: 1.0000 - val_loss: 3.6575e-06 - val_acc: 1.0000\n",
      "Epoch 9/18\n",
      "1280/1280 [==============================] - 0s 292us/step - loss: 4.1262e-06 - acc: 1.0000 - val_loss: 1.0478e-06 - val_acc: 1.0000\n",
      "Epoch 10/18\n",
      "1280/1280 [==============================] - 0s 331us/step - loss: 1.1903e-06 - acc: 1.0000 - val_loss: 4.1938e-07 - val_acc: 1.0000\n",
      "Epoch 11/18\n",
      "1280/1280 [==============================] - 0s 329us/step - loss: 4.4439e-07 - acc: 1.0000 - val_loss: 2.5634e-07 - val_acc: 1.0000\n",
      "Epoch 12/18\n",
      "1280/1280 [==============================] - 0s 337us/step - loss: 2.1117e-07 - acc: 1.0000 - val_loss: 1.3987e-07 - val_acc: 1.0000\n",
      "Epoch 13/18\n",
      "1280/1280 [==============================] - 0s 291us/step - loss: 1.4794e-07 - acc: 1.0000 - val_loss: 1.2245e-07 - val_acc: 1.0000\n",
      "Epoch 14/18\n",
      "1280/1280 [==============================] - 0s 292us/step - loss: 1.2736e-07 - acc: 1.0000 - val_loss: 1.1484e-07 - val_acc: 1.0000\n",
      "Epoch 15/18\n",
      "1280/1280 [==============================] - 0s 290us/step - loss: 1.1947e-07 - acc: 1.0000 - val_loss: 1.1217e-07 - val_acc: 1.0000\n",
      "Epoch 16/18\n",
      "1280/1280 [==============================] - 0s 293us/step - loss: 1.1542e-07 - acc: 1.0000 - val_loss: 1.1105e-07 - val_acc: 1.0000\n",
      "Epoch 17/18\n",
      "1280/1280 [==============================] - 0s 294us/step - loss: 1.1315e-07 - acc: 1.0000 - val_loss: 1.1084e-07 - val_acc: 1.0000\n",
      "Epoch 18/18\n",
      "1280/1280 [==============================] - 0s 263us/step - loss: 1.1236e-07 - acc: 1.0000 - val_loss: 1.1020e-07 - val_acc: 1.0000\n",
      "320/320 [==============================] - 0s 95us/step\n"
     ]
    }
   ],
   "source": [
    "model = models.Sequential()\n",
    "model.add(layers.Dense(128, activation='relu', input_shape=(9284,)))\n",
    "model.add(layers.Dense(128, activation='relu'))\n",
    "model.add(layers.Dense(1, activation='sigmoid'))\n",
    "model.compile(optimizer='rmsprop',\n",
    "              loss='binary_crossentropy',\n",
    "              metrics=['accuracy'])\n",
    "model.fit(X_trainV,\n",
    "                    y_trainV,\n",
    "                    epochs=18,\n",
    "                    batch_size=50,\n",
    "                    validation_data=(x_val, y_val))\n",
    "results = model.evaluate(X_testV, y_testV)"
   ]
  },
  {
   "cell_type": "code",
   "execution_count": 249,
   "metadata": {},
   "outputs": [
    {
     "name": "stdout",
     "output_type": "stream",
     "text": [
      "[1.2209452658891677, 0.83125]\n"
     ]
    }
   ],
   "source": [
    "print(results)"
   ]
  },
  {
   "cell_type": "markdown",
   "metadata": {},
   "source": [
    "### need to clean up and address overfitting"
   ]
  }
 ],
 "metadata": {
  "kernelspec": {
   "display_name": "Python 3",
   "language": "python",
   "name": "python3"
  },
  "language_info": {
   "codemirror_mode": {
    "name": "ipython",
    "version": 3
   },
   "file_extension": ".py",
   "mimetype": "text/x-python",
   "name": "python",
   "nbconvert_exporter": "python",
   "pygments_lexer": "ipython3",
   "version": "3.6.5"
  }
 },
 "nbformat": 4,
 "nbformat_minor": 2
}
