{
 "cells": [
  {
   "cell_type": "code",
   "execution_count": 52,
   "metadata": {},
   "outputs": [],
   "source": [
    "import keras"
   ]
  },
  {
   "cell_type": "code",
   "execution_count": 53,
   "metadata": {},
   "outputs": [
    {
     "data": {
      "text/html": [
       "<div>\n",
       "<style scoped>\n",
       "    .dataframe tbody tr th:only-of-type {\n",
       "        vertical-align: middle;\n",
       "    }\n",
       "\n",
       "    .dataframe tbody tr th {\n",
       "        vertical-align: top;\n",
       "    }\n",
       "\n",
       "    .dataframe thead th {\n",
       "        text-align: right;\n",
       "    }\n",
       "</style>\n",
       "<table border=\"1\" class=\"dataframe\">\n",
       "  <thead>\n",
       "    <tr style=\"text-align: right;\">\n",
       "      <th></th>\n",
       "      <th>deceptive</th>\n",
       "      <th>hotel</th>\n",
       "      <th>positive</th>\n",
       "      <th>tripadvisor</th>\n",
       "      <th>web</th>\n",
       "      <th>mturk</th>\n",
       "      <th>text</th>\n",
       "    </tr>\n",
       "  </thead>\n",
       "  <tbody>\n",
       "    <tr>\n",
       "      <th>0</th>\n",
       "      <td>0</td>\n",
       "      <td>conrad</td>\n",
       "      <td>1</td>\n",
       "      <td>1</td>\n",
       "      <td>0</td>\n",
       "      <td>0</td>\n",
       "      <td>We stayed for a one night getaway with family ...</td>\n",
       "    </tr>\n",
       "    <tr>\n",
       "      <th>1</th>\n",
       "      <td>0</td>\n",
       "      <td>hyatt</td>\n",
       "      <td>1</td>\n",
       "      <td>1</td>\n",
       "      <td>0</td>\n",
       "      <td>0</td>\n",
       "      <td>Triple A rate with upgrade to view room was le...</td>\n",
       "    </tr>\n",
       "    <tr>\n",
       "      <th>2</th>\n",
       "      <td>0</td>\n",
       "      <td>hyatt</td>\n",
       "      <td>1</td>\n",
       "      <td>1</td>\n",
       "      <td>0</td>\n",
       "      <td>0</td>\n",
       "      <td>This comes a little late as I'm finally catchi...</td>\n",
       "    </tr>\n",
       "    <tr>\n",
       "      <th>3</th>\n",
       "      <td>0</td>\n",
       "      <td>omni</td>\n",
       "      <td>1</td>\n",
       "      <td>1</td>\n",
       "      <td>0</td>\n",
       "      <td>0</td>\n",
       "      <td>The Omni Chicago really delivers on all fronts...</td>\n",
       "    </tr>\n",
       "    <tr>\n",
       "      <th>4</th>\n",
       "      <td>0</td>\n",
       "      <td>hyatt</td>\n",
       "      <td>1</td>\n",
       "      <td>1</td>\n",
       "      <td>0</td>\n",
       "      <td>0</td>\n",
       "      <td>I asked for a high floor away from the elevato...</td>\n",
       "    </tr>\n",
       "  </tbody>\n",
       "</table>\n",
       "</div>"
      ],
      "text/plain": [
       "   deceptive   hotel  positive  tripadvisor  web  mturk  \\\n",
       "0          0  conrad         1            1    0      0   \n",
       "1          0   hyatt         1            1    0      0   \n",
       "2          0   hyatt         1            1    0      0   \n",
       "3          0    omni         1            1    0      0   \n",
       "4          0   hyatt         1            1    0      0   \n",
       "\n",
       "                                                text  \n",
       "0  We stayed for a one night getaway with family ...  \n",
       "1  Triple A rate with upgrade to view room was le...  \n",
       "2  This comes a little late as I'm finally catchi...  \n",
       "3  The Omni Chicago really delivers on all fronts...  \n",
       "4  I asked for a high floor away from the elevato...  "
      ]
     },
     "execution_count": 53,
     "metadata": {},
     "output_type": "execute_result"
    }
   ],
   "source": [
    "import pandas as pd\n",
    "\n",
    "train_df = pd.read_csv('/Users/jonathan/Desktop/deceptive-opinion.csv')\n",
    "train_df.head()"
   ]
  },
  {
   "cell_type": "code",
   "execution_count": 54,
   "metadata": {},
   "outputs": [
    {
     "name": "stdout",
     "output_type": "stream",
     "text": [
      "Triple A rate with upgrade to view room was less than $200 which also included breakfast vouchers. Had a great view of river, lake, Wrigley Bldg. & Tribune Bldg. Most major restaurants, Shopping, Sightseeing attractions within walking distance. Large room with a very comfortable bed. \n",
      "0\n"
     ]
    }
   ],
   "source": [
    "#separate the data into the review text and deceptive label. Features are denoted F here so that they can be vecorized\n",
    "F, y = train_df['text'], train_df['deceptive']\n",
    "print(F[1]+str(y[1]))"
   ]
  },
  {
   "cell_type": "code",
   "execution_count": 55,
   "metadata": {},
   "outputs": [],
   "source": [
    "from sklearn.feature_extraction.text import CountVectorizer\n",
    "\n",
    "vectorizer = CountVectorizer(stop_words ='english')\n",
    "X = vectorizer.fit_transform(F).toarray()\n"
   ]
  },
  {
   "cell_type": "code",
   "execution_count": 56,
   "metadata": {},
   "outputs": [],
   "source": [
    "#import train/test split module\n",
    "from sklearn.model_selection import train_test_split\n",
    "\n",
    "# split data into train and test sets\n",
    "seed = 7\n",
    "test_size = 0.2\n",
    "X_train, X_test, y_train, y_test = train_test_split(X, y, test_size=test_size)\n"
   ]
  },
  {
   "cell_type": "code",
   "execution_count": 57,
   "metadata": {},
   "outputs": [],
   "source": [
    "import numpy as np\n",
    "\n",
    "# Our vectorized training data\n",
    "X_trainV = np.asarray(X_train).astype('float32')\n",
    "# Our vectorized test data\n",
    "X_testV = np.asarray(X_test).astype('float32')"
   ]
  },
  {
   "cell_type": "code",
   "execution_count": 58,
   "metadata": {},
   "outputs": [
    {
     "data": {
      "text/plain": [
       "0.0"
      ]
     },
     "execution_count": 58,
     "metadata": {},
     "output_type": "execute_result"
    }
   ],
   "source": [
    "# Our vectorized labels\n",
    "y_trainV = np.asarray(y_train).astype('float32')\n",
    "y_testV = np.asarray(y_test).astype('float32')\n",
    "y_trainV[1]"
   ]
  },
  {
   "cell_type": "code",
   "execution_count": 59,
   "metadata": {},
   "outputs": [],
   "source": [
    "#Create a function to build the model for reuse\n",
    "from keras import models\n",
    "from keras import layers\n",
    "from keras import losses\n",
    "from keras import metrics\n",
    "from keras import optimizers\n",
    "\n",
    "def create_model():\n",
    "\n",
    "    model = models.Sequential()\n",
    "    model.add(layers.Dense(16, activation='relu', input_shape=(9284,)))\n",
    "    model.add(layers.Dense(16, activation='relu'))\n",
    "    model.add(layers.Dense(1, activation='sigmoid'))\n",
    "    \n",
    "    model.compile(optimizer=optimizers.RMSprop(lr=0.001),\n",
    "              loss=losses.binary_crossentropy,\n",
    "              metrics=[metrics.binary_accuracy])\n",
    "    \n",
    "    return model"
   ]
  },
  {
   "cell_type": "code",
   "execution_count": 60,
   "metadata": {},
   "outputs": [],
   "source": [
    "#create a validation data set\n",
    "x_val = X_trainV[:320]\n",
    "partial_x_train = X_trainV[320:]\n",
    "\n",
    "y_val = y_trainV[:320]\n",
    "partial_y_train = y_trainV[320:]"
   ]
  },
  {
   "cell_type": "code",
   "execution_count": 61,
   "metadata": {},
   "outputs": [
    {
     "name": "stdout",
     "output_type": "stream",
     "text": [
      "Train on 1280 samples, validate on 320 samples\n",
      "Epoch 1/20\n",
      "1280/1280 [==============================] - 1s 511us/step - loss: 0.6386 - binary_accuracy: 0.6313 - val_loss: 0.5154 - val_binary_accuracy: 0.8781\n",
      "Epoch 2/20\n",
      "1280/1280 [==============================] - 0s 82us/step - loss: 0.4221 - binary_accuracy: 0.9148 - val_loss: 0.3124 - val_binary_accuracy: 0.9437\n",
      "Epoch 3/20\n",
      "1280/1280 [==============================] - 0s 90us/step - loss: 0.2520 - binary_accuracy: 0.9578 - val_loss: 0.1850 - val_binary_accuracy: 0.9719\n",
      "Epoch 4/20\n",
      "1280/1280 [==============================] - 0s 84us/step - loss: 0.1501 - binary_accuracy: 0.9742 - val_loss: 0.1097 - val_binary_accuracy: 0.9844\n",
      "Epoch 5/20\n",
      "1280/1280 [==============================] - 0s 92us/step - loss: 0.0886 - binary_accuracy: 0.9820 - val_loss: 0.0675 - val_binary_accuracy: 0.9938\n",
      "Epoch 6/20\n",
      "1280/1280 [==============================] - 0s 88us/step - loss: 0.0524 - binary_accuracy: 0.9930 - val_loss: 0.0394 - val_binary_accuracy: 0.9969\n",
      "Epoch 7/20\n",
      "1280/1280 [==============================] - 0s 92us/step - loss: 0.0305 - binary_accuracy: 0.9953 - val_loss: 0.0223 - val_binary_accuracy: 0.9969\n",
      "Epoch 8/20\n",
      "1280/1280 [==============================] - 0s 88us/step - loss: 0.0165 - binary_accuracy: 0.9992 - val_loss: 0.0128 - val_binary_accuracy: 1.0000\n",
      "Epoch 9/20\n",
      "1280/1280 [==============================] - 0s 91us/step - loss: 0.0083 - binary_accuracy: 1.0000 - val_loss: 0.0064 - val_binary_accuracy: 1.0000\n",
      "Epoch 10/20\n",
      "1280/1280 [==============================] - 0s 87us/step - loss: 0.0041 - binary_accuracy: 1.0000 - val_loss: 0.0031 - val_binary_accuracy: 1.0000\n",
      "Epoch 11/20\n",
      "1280/1280 [==============================] - 0s 76us/step - loss: 0.0019 - binary_accuracy: 1.0000 - val_loss: 0.0018 - val_binary_accuracy: 1.0000\n",
      "Epoch 12/20\n",
      "1280/1280 [==============================] - 0s 91us/step - loss: 8.4694e-04 - binary_accuracy: 1.0000 - val_loss: 5.9378e-04 - val_binary_accuracy: 1.0000\n",
      "Epoch 13/20\n",
      "1280/1280 [==============================] - 0s 84us/step - loss: 3.5741e-04 - binary_accuracy: 1.0000 - val_loss: 2.4341e-04 - val_binary_accuracy: 1.0000\n",
      "Epoch 14/20\n",
      "1280/1280 [==============================] - 0s 84us/step - loss: 1.4305e-04 - binary_accuracy: 1.0000 - val_loss: 1.1442e-04 - val_binary_accuracy: 1.0000\n",
      "Epoch 15/20\n",
      "1280/1280 [==============================] - 0s 79us/step - loss: 6.0868e-05 - binary_accuracy: 1.0000 - val_loss: 4.9496e-05 - val_binary_accuracy: 1.0000\n",
      "Epoch 16/20\n",
      "1280/1280 [==============================] - 0s 84us/step - loss: 2.5141e-05 - binary_accuracy: 1.0000 - val_loss: 1.9241e-05 - val_binary_accuracy: 1.0000\n",
      "Epoch 17/20\n",
      "1280/1280 [==============================] - 0s 80us/step - loss: 9.8211e-06 - binary_accuracy: 1.0000 - val_loss: 8.1938e-06 - val_binary_accuracy: 1.0000\n",
      "Epoch 18/20\n",
      "1280/1280 [==============================] - 0s 85us/step - loss: 3.8996e-06 - binary_accuracy: 1.0000 - val_loss: 3.5630e-06 - val_binary_accuracy: 1.0000\n",
      "Epoch 19/20\n",
      "1280/1280 [==============================] - 0s 92us/step - loss: 1.7109e-06 - binary_accuracy: 1.0000 - val_loss: 1.5562e-06 - val_binary_accuracy: 1.0000\n",
      "Epoch 20/20\n",
      "1280/1280 [==============================] - 0s 88us/step - loss: 7.3164e-07 - binary_accuracy: 1.0000 - val_loss: 6.7956e-07 - val_binary_accuracy: 1.0000\n"
     ]
    }
   ],
   "source": [
    "model = create_model()\n",
    "history = model.fit(X_trainV,\n",
    "                    y_trainV,\n",
    "                    epochs=20,\n",
    "                    batch_size=50,\n",
    "                    validation_data=(x_val, y_val))"
   ]
  },
  {
   "cell_type": "code",
   "execution_count": 62,
   "metadata": {},
   "outputs": [
    {
     "data": {
      "text/plain": [
       "dict_keys(['val_loss', 'val_binary_accuracy', 'loss', 'binary_accuracy'])"
      ]
     },
     "execution_count": 62,
     "metadata": {},
     "output_type": "execute_result"
    }
   ],
   "source": [
    "history_dict = history.history\n",
    "history_dict.keys()"
   ]
  },
  {
   "cell_type": "code",
   "execution_count": 63,
   "metadata": {},
   "outputs": [
    {
     "data": {
      "image/png": "[encoded data removed]",
      "text/plain": [
       "<Figure size 432x288 with 1 Axes>"
      ]
     },
     "metadata": {},
     "output_type": "display_data"
    }
   ],
   "source": [
    "import matplotlib.pyplot as plt\n",
    "\n",
    "acc = history.history['binary_accuracy']\n",
    "val_acc = history.history['val_binary_accuracy']\n",
    "loss = history.history['loss']\n",
    "val_loss = history.history['val_loss']\n",
    "\n",
    "epochs = range(1, len(acc) + 1)\n",
    "\n",
    "# \"bo\" is for \"blue dot\"\n",
    "plt.plot(epochs, loss, 'bo', label='Training loss')\n",
    "# b is for \"solid blue line\"\n",
    "plt.plot(epochs, val_loss, 'b', label='Validation loss')\n",
    "plt.title('Training and validation loss')\n",
    "plt.xlabel('Epochs')\n",
    "plt.ylabel('Loss')\n",
    "plt.legend()\n",
    "\n",
    "plt.show()"
   ]
  },
  {
   "cell_type": "code",
   "execution_count": 64,
   "metadata": {},
   "outputs": [
    {
     "data": {
      "image/png": "[encoded data removed]",
      "text/plain": [
       "<Figure size 432x288 with 1 Axes>"
      ]
     },
     "metadata": {},
     "output_type": "display_data"
    }
   ],
   "source": [
    "plt.clf()   # clear figure\n",
    "acc_values = history_dict['binary_accuracy']\n",
    "val_acc_values = history_dict['val_binary_accuracy']\n",
    "\n",
    "plt.plot(epochs, acc, 'bo', label='Training acc')\n",
    "plt.plot(epochs, val_acc, 'b', label='Validation acc')\n",
    "plt.title('Training and validation accuracy')\n",
    "plt.xlabel('Epochs')\n",
    "plt.ylabel('Acc')\n",
    "plt.legend()\n",
    "\n",
    "plt.show()"
   ]
  },
  {
   "cell_type": "code",
   "execution_count": 65,
   "metadata": {
    "scrolled": true
   },
   "outputs": [
    {
     "name": "stdout",
     "output_type": "stream",
     "text": [
      "Train on 1280 samples, validate on 320 samples\n",
      "Epoch 1/8\n",
      "1280/1280 [==============================] - 1s 522us/step - loss: 0.6430 - binary_accuracy: 0.7211 - val_loss: 0.5077 - val_binary_accuracy: 0.9219\n",
      "Epoch 2/8\n",
      "1280/1280 [==============================] - 0s 95us/step - loss: 0.4099 - binary_accuracy: 0.9172 - val_loss: 0.2865 - val_binary_accuracy: 0.9437\n",
      "Epoch 3/8\n",
      "1280/1280 [==============================] - 0s 83us/step - loss: 0.2366 - binary_accuracy: 0.9547 - val_loss: 0.1723 - val_binary_accuracy: 0.9625\n",
      "Epoch 4/8\n",
      "1280/1280 [==============================] - 0s 81us/step - loss: 0.1433 - binary_accuracy: 0.9719 - val_loss: 0.1158 - val_binary_accuracy: 0.9656\n",
      "Epoch 5/8\n",
      "1280/1280 [==============================] - 0s 87us/step - loss: 0.0884 - binary_accuracy: 0.9844 - val_loss: 0.0653 - val_binary_accuracy: 0.9844\n",
      "Epoch 6/8\n",
      "1280/1280 [==============================] - 0s 80us/step - loss: 0.0536 - binary_accuracy: 0.9891 - val_loss: 0.0384 - val_binary_accuracy: 1.0000\n",
      "Epoch 7/8\n",
      "1280/1280 [==============================] - 0s 88us/step - loss: 0.0314 - binary_accuracy: 0.9969 - val_loss: 0.0247 - val_binary_accuracy: 1.0000\n",
      "Epoch 8/8\n",
      "1280/1280 [==============================] - 0s 84us/step - loss: 0.0181 - binary_accuracy: 0.9992 - val_loss: 0.0136 - val_binary_accuracy: 1.0000\n",
      "320/320 [==============================] - 0s 38us/step\n"
     ]
    }
   ],
   "source": [
    "#Evaluate model with actual test data\n",
    "model = create_model()\n",
    "model.fit(X_trainV,\n",
    "                    y_trainV,\n",
    "                    epochs=8,\n",
    "                    batch_size=50,\n",
    "                    validation_data=(x_val, y_val))\n",
    "results = model.evaluate(X_testV, y_testV)"
   ]
  },
  {
   "cell_type": "code",
   "execution_count": 66,
   "metadata": {},
   "outputs": [
    {
     "name": "stdout",
     "output_type": "stream",
     "text": [
      "[0.3360097125172615, 0.8625]\n"
     ]
    }
   ],
   "source": [
    "print(results)"
   ]
  },
  {
   "cell_type": "markdown",
   "metadata": {},
   "source": [
    "### Address overfitting"
   ]
  },
  {
   "cell_type": "code",
   "execution_count": 80,
   "metadata": {},
   "outputs": [],
   "source": [
    "def drop_model():\n",
    "    model = models.Sequential()\n",
    "    model.add(layers.Dense(8, activation='relu', input_shape=(9284,)))\n",
    "    model.add(layers.Dropout(.5))\n",
    "    model.add(layers.Dense(8, activation='relu'))\n",
    "    model.add(layers.Dropout(.5))\n",
    "    model.add(layers.Dense(1, activation='sigmoid'))\n",
    "    \n",
    "    model.compile(optimizer=optimizers.RMSprop(lr=0.001),\n",
    "              loss=losses.binary_crossentropy,\n",
    "              metrics=[metrics.binary_accuracy])\n",
    "    \n",
    "    return model"
   ]
  },
  {
   "cell_type": "code",
   "execution_count": 81,
   "metadata": {},
   "outputs": [
    {
     "name": "stdout",
     "output_type": "stream",
     "text": [
      "Train on 1280 samples, validate on 320 samples\n",
      "Epoch 1/20\n",
      "1280/1280 [==============================] - 1s 672us/step - loss: 0.6914 - binary_accuracy: 0.5336 - val_loss: 0.6860 - val_binary_accuracy: 0.7000\n",
      "Epoch 2/20\n",
      "1280/1280 [==============================] - 0s 81us/step - loss: 0.6797 - binary_accuracy: 0.6141 - val_loss: 0.6633 - val_binary_accuracy: 0.7844\n",
      "Epoch 3/20\n",
      "1280/1280 [==============================] - 0s 83us/step - loss: 0.6622 - binary_accuracy: 0.6328 - val_loss: 0.6352 - val_binary_accuracy: 0.8531\n",
      "Epoch 4/20\n",
      "1280/1280 [==============================] - 0s 101us/step - loss: 0.6384 - binary_accuracy: 0.6586 - val_loss: 0.5965 - val_binary_accuracy: 0.8906\n",
      "Epoch 5/20\n",
      "1280/1280 [==============================] - 0s 111us/step - loss: 0.6092 - binary_accuracy: 0.6867 - val_loss: 0.5514 - val_binary_accuracy: 0.9125\n",
      "Epoch 6/20\n",
      "1280/1280 [==============================] - 0s 95us/step - loss: 0.5706 - binary_accuracy: 0.7273 - val_loss: 0.5046 - val_binary_accuracy: 0.9156\n",
      "Epoch 7/20\n",
      "1280/1280 [==============================] - 0s 78us/step - loss: 0.5522 - binary_accuracy: 0.7469 - val_loss: 0.4649 - val_binary_accuracy: 0.9281\n",
      "Epoch 8/20\n",
      "1280/1280 [==============================] - 0s 81us/step - loss: 0.5158 - binary_accuracy: 0.7648 - val_loss: 0.4188 - val_binary_accuracy: 0.9312\n",
      "Epoch 9/20\n",
      "1280/1280 [==============================] - 0s 76us/step - loss: 0.4840 - binary_accuracy: 0.7992 - val_loss: 0.3773 - val_binary_accuracy: 0.9437\n",
      "Epoch 10/20\n",
      "1280/1280 [==============================] - 0s 82us/step - loss: 0.4648 - binary_accuracy: 0.7914 - val_loss: 0.3408 - val_binary_accuracy: 0.9469\n",
      "Epoch 11/20\n",
      "1280/1280 [==============================] - 0s 75us/step - loss: 0.4314 - binary_accuracy: 0.8164 - val_loss: 0.2969 - val_binary_accuracy: 0.9562\n",
      "Epoch 12/20\n",
      "1280/1280 [==============================] - 0s 85us/step - loss: 0.4266 - binary_accuracy: 0.8094 - val_loss: 0.2676 - val_binary_accuracy: 0.9594\n",
      "Epoch 13/20\n",
      "1280/1280 [==============================] - 0s 73us/step - loss: 0.3869 - binary_accuracy: 0.8391 - val_loss: 0.2395 - val_binary_accuracy: 0.9625\n",
      "Epoch 14/20\n",
      "1280/1280 [==============================] - 0s 78us/step - loss: 0.3588 - binary_accuracy: 0.8523 - val_loss: 0.2110 - val_binary_accuracy: 0.9656\n",
      "Epoch 15/20\n",
      "1280/1280 [==============================] - 0s 72us/step - loss: 0.3490 - binary_accuracy: 0.8500 - val_loss: 0.1866 - val_binary_accuracy: 0.9656\n",
      "Epoch 16/20\n",
      "1280/1280 [==============================] - 0s 80us/step - loss: 0.3284 - binary_accuracy: 0.8570 - val_loss: 0.1654 - val_binary_accuracy: 0.9719\n",
      "Epoch 17/20\n",
      "1280/1280 [==============================] - 0s 71us/step - loss: 0.3119 - binary_accuracy: 0.8758 - val_loss: 0.1423 - val_binary_accuracy: 0.9781\n",
      "Epoch 18/20\n",
      "1280/1280 [==============================] - 0s 80us/step - loss: 0.2916 - binary_accuracy: 0.8922 - val_loss: 0.1252 - val_binary_accuracy: 0.9719\n",
      "Epoch 19/20\n",
      "1280/1280 [==============================] - 0s 80us/step - loss: 0.2676 - binary_accuracy: 0.8922 - val_loss: 0.1082 - val_binary_accuracy: 0.9813\n",
      "Epoch 20/20\n",
      "1280/1280 [==============================] - 0s 80us/step - loss: 0.2498 - binary_accuracy: 0.9078 - val_loss: 0.0959 - val_binary_accuracy: 0.9813\n"
     ]
    }
   ],
   "source": [
    "drop_model = drop_model()\n",
    "history = drop_model.fit(X_trainV,\n",
    "                    y_trainV,\n",
    "                    epochs=20,\n",
    "                    batch_size=50,\n",
    "                    validation_data=(x_val, y_val))"
   ]
  },
  {
   "cell_type": "code",
   "execution_count": 82,
   "metadata": {},
   "outputs": [
    {
     "name": "stdout",
     "output_type": "stream",
     "text": [
      "Train on 1280 samples, validate on 320 samples\n",
      "Epoch 1/16\n",
      "1280/1280 [==============================] - 0s 77us/step - loss: 0.2399 - binary_accuracy: 0.9172 - val_loss: 0.0835 - val_binary_accuracy: 0.9813\n",
      "Epoch 2/16\n",
      "1280/1280 [==============================] - 0s 77us/step - loss: 0.2391 - binary_accuracy: 0.9203 - val_loss: 0.0753 - val_binary_accuracy: 0.9813\n",
      "Epoch 3/16\n",
      "1280/1280 [==============================] - 0s 74us/step - loss: 0.2237 - binary_accuracy: 0.9242 - val_loss: 0.0674 - val_binary_accuracy: 0.9844\n",
      "Epoch 4/16\n",
      "1280/1280 [==============================] - 0s 76us/step - loss: 0.2075 - binary_accuracy: 0.9305 - val_loss: 0.0593 - val_binary_accuracy: 0.9875\n",
      "Epoch 5/16\n",
      "1280/1280 [==============================] - 0s 70us/step - loss: 0.2120 - binary_accuracy: 0.9242 - val_loss: 0.0509 - val_binary_accuracy: 0.9875\n",
      "Epoch 6/16\n",
      "1280/1280 [==============================] - 0s 74us/step - loss: 0.1932 - binary_accuracy: 0.9359 - val_loss: 0.0435 - val_binary_accuracy: 0.9937\n",
      "Epoch 7/16\n",
      "1280/1280 [==============================] - 0s 74us/step - loss: 0.2068 - binary_accuracy: 0.9289 - val_loss: 0.0421 - val_binary_accuracy: 0.9969\n",
      "Epoch 8/16\n",
      "1280/1280 [==============================] - 0s 68us/step - loss: 0.1940 - binary_accuracy: 0.9320 - val_loss: 0.0347 - val_binary_accuracy: 0.9969\n",
      "Epoch 9/16\n",
      "1280/1280 [==============================] - 0s 76us/step - loss: 0.1914 - binary_accuracy: 0.9328 - val_loss: 0.0322 - val_binary_accuracy: 1.0000\n",
      "Epoch 10/16\n",
      "1280/1280 [==============================] - 0s 70us/step - loss: 0.1822 - binary_accuracy: 0.9453 - val_loss: 0.0292 - val_binary_accuracy: 1.0000\n",
      "Epoch 11/16\n",
      "1280/1280 [==============================] - 0s 84us/step - loss: 0.1721 - binary_accuracy: 0.9453 - val_loss: 0.0245 - val_binary_accuracy: 1.0000\n",
      "Epoch 12/16\n",
      "1280/1280 [==============================] - 0s 69us/step - loss: 0.1747 - binary_accuracy: 0.9359 - val_loss: 0.0234 - val_binary_accuracy: 1.0000\n",
      "Epoch 13/16\n",
      "1280/1280 [==============================] - 0s 82us/step - loss: 0.1682 - binary_accuracy: 0.9469 - val_loss: 0.0198 - val_binary_accuracy: 1.0000\n",
      "Epoch 14/16\n",
      "1280/1280 [==============================] - 0s 93us/step - loss: 0.1842 - binary_accuracy: 0.9289 - val_loss: 0.0196 - val_binary_accuracy: 1.0000\n",
      "Epoch 15/16\n",
      "1280/1280 [==============================] - 0s 103us/step - loss: 0.1569 - binary_accuracy: 0.9555 - val_loss: 0.0163 - val_binary_accuracy: 1.0000\n",
      "Epoch 16/16\n",
      "1280/1280 [==============================] - 0s 86us/step - loss: 0.1565 - binary_accuracy: 0.9477 - val_loss: 0.0156 - val_binary_accuracy: 1.0000\n",
      "320/320 [==============================] - 0s 35us/step\n"
     ]
    }
   ],
   "source": [
    "#Evaluate model with actual test data\n",
    "#drop_model = drop_model()\n",
    "drop_model.fit(X_trainV,\n",
    "                    y_trainV,\n",
    "                    epochs=16,\n",
    "                    batch_size=50,\n",
    "                    validation_data=(x_val, y_val))\n",
    "results = drop_model.evaluate(X_testV, y_testV)"
   ]
  },
  {
   "cell_type": "code",
   "execution_count": 83,
   "metadata": {},
   "outputs": [
    {
     "name": "stdout",
     "output_type": "stream",
     "text": [
      "[0.46569232642650604, 0.865625]\n"
     ]
    }
   ],
   "source": [
    "print(results)"
   ]
  },
  {
   "cell_type": "code",
   "execution_count": null,
   "metadata": {},
   "outputs": [],
   "source": []
  }
 ],
 "metadata": {
  "kernelspec": {
   "display_name": "Python 3",
   "language": "python",
   "name": "python3"
  },
  "language_info": {
   "codemirror_mode": {
    "name": "ipython",
    "version": 3
   },
   "file_extension": ".py",
   "mimetype": "text/x-python",
   "name": "python",
   "nbconvert_exporter": "python",
   "pygments_lexer": "ipython3",
   "version": "3.6.5"
  }
 },
 "nbformat": 4,
 "nbformat_minor": 2
}
