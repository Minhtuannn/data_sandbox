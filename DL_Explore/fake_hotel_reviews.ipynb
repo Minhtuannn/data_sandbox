{
 "cells": [
  {
   "cell_type": "code",
   "execution_count": 47,
   "metadata": {},
   "outputs": [],
   "source": [
    "import keras"
   ]
  },
  {
   "cell_type": "code",
   "execution_count": 48,
   "metadata": {},
   "outputs": [
    {
     "data": {
      "text/html": [
       "<div>\n",
       "<style scoped>\n",
       "    .dataframe tbody tr th:only-of-type {\n",
       "        vertical-align: middle;\n",
       "    }\n",
       "\n",
       "    .dataframe tbody tr th {\n",
       "        vertical-align: top;\n",
       "    }\n",
       "\n",
       "    .dataframe thead th {\n",
       "        text-align: right;\n",
       "    }\n",
       "</style>\n",
       "<table border=\"1\" class=\"dataframe\">\n",
       "  <thead>\n",
       "    <tr style=\"text-align: right;\">\n",
       "      <th></th>\n",
       "      <th>deceptive</th>\n",
       "      <th>hotel</th>\n",
       "      <th>positive</th>\n",
       "      <th>tripadvisor</th>\n",
       "      <th>web</th>\n",
       "      <th>mturk</th>\n",
       "      <th>text</th>\n",
       "    </tr>\n",
       "  </thead>\n",
       "  <tbody>\n",
       "    <tr>\n",
       "      <th>0</th>\n",
       "      <td>0</td>\n",
       "      <td>conrad</td>\n",
       "      <td>1</td>\n",
       "      <td>1</td>\n",
       "      <td>0</td>\n",
       "      <td>0</td>\n",
       "      <td>We stayed for a one night getaway with family ...</td>\n",
       "    </tr>\n",
       "    <tr>\n",
       "      <th>1</th>\n",
       "      <td>0</td>\n",
       "      <td>hyatt</td>\n",
       "      <td>1</td>\n",
       "      <td>1</td>\n",
       "      <td>0</td>\n",
       "      <td>0</td>\n",
       "      <td>Triple A rate with upgrade to view room was le...</td>\n",
       "    </tr>\n",
       "    <tr>\n",
       "      <th>2</th>\n",
       "      <td>0</td>\n",
       "      <td>hyatt</td>\n",
       "      <td>1</td>\n",
       "      <td>1</td>\n",
       "      <td>0</td>\n",
       "      <td>0</td>\n",
       "      <td>This comes a little late as I'm finally catchi...</td>\n",
       "    </tr>\n",
       "    <tr>\n",
       "      <th>3</th>\n",
       "      <td>0</td>\n",
       "      <td>omni</td>\n",
       "      <td>1</td>\n",
       "      <td>1</td>\n",
       "      <td>0</td>\n",
       "      <td>0</td>\n",
       "      <td>The Omni Chicago really delivers on all fronts...</td>\n",
       "    </tr>\n",
       "    <tr>\n",
       "      <th>4</th>\n",
       "      <td>0</td>\n",
       "      <td>hyatt</td>\n",
       "      <td>1</td>\n",
       "      <td>1</td>\n",
       "      <td>0</td>\n",
       "      <td>0</td>\n",
       "      <td>I asked for a high floor away from the elevato...</td>\n",
       "    </tr>\n",
       "  </tbody>\n",
       "</table>\n",
       "</div>"
      ],
      "text/plain": [
       "   deceptive   hotel  positive  tripadvisor  web  mturk  \\\n",
       "0          0  conrad         1            1    0      0   \n",
       "1          0   hyatt         1            1    0      0   \n",
       "2          0   hyatt         1            1    0      0   \n",
       "3          0    omni         1            1    0      0   \n",
       "4          0   hyatt         1            1    0      0   \n",
       "\n",
       "                                                text  \n",
       "0  We stayed for a one night getaway with family ...  \n",
       "1  Triple A rate with upgrade to view room was le...  \n",
       "2  This comes a little late as I'm finally catchi...  \n",
       "3  The Omni Chicago really delivers on all fronts...  \n",
       "4  I asked for a high floor away from the elevato...  "
      ]
     },
     "execution_count": 48,
     "metadata": {},
     "output_type": "execute_result"
    }
   ],
   "source": [
    "import pandas as pd\n",
    "\n",
    "train_df = pd.read_csv('/Users/jonathan/Desktop/deceptive-opinion.csv')\n",
    "train_df.head()"
   ]
  },
  {
   "cell_type": "code",
   "execution_count": 49,
   "metadata": {},
   "outputs": [
    {
     "name": "stdout",
     "output_type": "stream",
     "text": [
      "Triple A rate with upgrade to view room was less than $200 which also included breakfast vouchers. Had a great view of river, lake, Wrigley Bldg. & Tribune Bldg. Most major restaurants, Shopping, Sightseeing attractions within walking distance. Large room with a very comfortable bed. \n",
      "0\n"
     ]
    }
   ],
   "source": [
    "#separate the data into the review text and deceptive label. Features are denoted F here so that they can be vecorized\n",
    "F, y = train_df['text'], train_df['deceptive']\n",
    "print(F[1]+str(y[1]))"
   ]
  },
  {
   "cell_type": "code",
   "execution_count": 50,
   "metadata": {},
   "outputs": [],
   "source": [
    "from sklearn.feature_extraction.text import CountVectorizer\n",
    "\n",
    "vectorizer = CountVectorizer(stop_words ='english')\n",
    "X = vectorizer.fit_transform(F).toarray()\n"
   ]
  },
  {
   "cell_type": "code",
   "execution_count": 51,
   "metadata": {},
   "outputs": [],
   "source": [
    "#import train/test split module\n",
    "from sklearn.model_selection import train_test_split\n",
    "\n",
    "# split data into train and test sets\n",
    "seed = 7\n",
    "test_size = 0.2\n",
    "X_train, X_test, y_train, y_test = train_test_split(X, y, test_size=test_size)\n"
   ]
  },
  {
   "cell_type": "code",
   "execution_count": 52,
   "metadata": {},
   "outputs": [],
   "source": [
    "import numpy as np\n",
    "\n",
    "# Our vectorized training data\n",
    "X_trainV = np.asarray(X_train).astype('float32')\n",
    "# Our vectorized test data\n",
    "X_testV = np.asarray(X_test).astype('float32')"
   ]
  },
  {
   "cell_type": "code",
   "execution_count": 53,
   "metadata": {},
   "outputs": [
    {
     "data": {
      "text/plain": [
       "1.0"
      ]
     },
     "execution_count": 53,
     "metadata": {},
     "output_type": "execute_result"
    }
   ],
   "source": [
    "# Our vectorized labels\n",
    "y_trainV = np.asarray(y_train).astype('float32')\n",
    "y_testV = np.asarray(y_test).astype('float32')\n",
    "y_trainV[1]"
   ]
  },
  {
   "cell_type": "code",
   "execution_count": 54,
   "metadata": {},
   "outputs": [],
   "source": [
    "#Create a function to build the model for reuse\n",
    "from keras import models\n",
    "from keras import layers\n",
    "from keras import losses\n",
    "from keras import metrics\n",
    "from keras import optimizers\n",
    "\n",
    "def create_model():\n",
    "\n",
    "    model = models.Sequential()\n",
    "    model.add(layers.Dense(16, activation='relu', input_shape=(9284,)))\n",
    "    model.add(layers.Dense(16, activation='relu'))\n",
    "    model.add(layers.Dense(1, activation='sigmoid'))\n",
    "    \n",
    "    model.compile(optimizer=optimizers.RMSprop(lr=0.001),\n",
    "              loss=losses.binary_crossentropy,\n",
    "              metrics=[metrics.binary_accuracy])\n",
    "    \n",
    "    return model"
   ]
  },
  {
   "cell_type": "code",
   "execution_count": 55,
   "metadata": {},
   "outputs": [],
   "source": [
    "#create a validation data set\n",
    "x_val = X_trainV[:320]\n",
    "partial_x_train = X_trainV[320:]\n",
    "\n",
    "y_val = y_trainV[:320]\n",
    "partial_y_train = y_trainV[320:]"
   ]
  },
  {
   "cell_type": "code",
   "execution_count": 56,
   "metadata": {},
   "outputs": [
    {
     "name": "stdout",
     "output_type": "stream",
     "text": [
      "Train on 1280 samples, validate on 320 samples\n",
      "Epoch 1/20\n",
      "1280/1280 [==============================] - 0s 350us/step - loss: 0.6010 - binary_accuracy: 0.7562 - val_loss: 0.4250 - val_binary_accuracy: 0.9312\n",
      "Epoch 2/20\n",
      "1280/1280 [==============================] - 0s 65us/step - loss: 0.3733 - binary_accuracy: 0.9266 - val_loss: 0.2571 - val_binary_accuracy: 0.9625\n",
      "Epoch 3/20\n",
      "1280/1280 [==============================] - 0s 66us/step - loss: 0.2312 - binary_accuracy: 0.9570 - val_loss: 0.1584 - val_binary_accuracy: 0.9781\n",
      "Epoch 4/20\n",
      "1280/1280 [==============================] - 0s 66us/step - loss: 0.1453 - binary_accuracy: 0.9734 - val_loss: 0.0998 - val_binary_accuracy: 0.9844\n",
      "Epoch 5/20\n",
      "1280/1280 [==============================] - 0s 69us/step - loss: 0.0911 - binary_accuracy: 0.9836 - val_loss: 0.0636 - val_binary_accuracy: 0.9906\n",
      "Epoch 6/20\n",
      "1280/1280 [==============================] - 0s 68us/step - loss: 0.0573 - binary_accuracy: 0.9914 - val_loss: 0.0381 - val_binary_accuracy: 0.9938\n",
      "Epoch 7/20\n",
      "1280/1280 [==============================] - 0s 66us/step - loss: 0.0346 - binary_accuracy: 0.9945 - val_loss: 0.0220 - val_binary_accuracy: 0.9969\n",
      "Epoch 8/20\n",
      "1280/1280 [==============================] - 0s 69us/step - loss: 0.0192 - binary_accuracy: 0.9984 - val_loss: 0.0115 - val_binary_accuracy: 1.0000\n",
      "Epoch 9/20\n",
      "1280/1280 [==============================] - 0s 65us/step - loss: 0.0103 - binary_accuracy: 1.0000 - val_loss: 0.0059 - val_binary_accuracy: 1.0000\n",
      "Epoch 10/20\n",
      "1280/1280 [==============================] - 0s 66us/step - loss: 0.0050 - binary_accuracy: 1.0000 - val_loss: 0.0026 - val_binary_accuracy: 1.0000\n",
      "Epoch 11/20\n",
      "1280/1280 [==============================] - 0s 67us/step - loss: 0.0025 - binary_accuracy: 1.0000 - val_loss: 0.0012 - val_binary_accuracy: 1.0000\n",
      "Epoch 12/20\n",
      "1280/1280 [==============================] - 0s 68us/step - loss: 0.0012 - binary_accuracy: 1.0000 - val_loss: 6.0096e-04 - val_binary_accuracy: 1.0000\n",
      "Epoch 13/20\n",
      "1280/1280 [==============================] - 0s 67us/step - loss: 5.7826e-04 - binary_accuracy: 1.0000 - val_loss: 2.9062e-04 - val_binary_accuracy: 1.0000\n",
      "Epoch 14/20\n",
      "1280/1280 [==============================] - 0s 67us/step - loss: 2.5717e-04 - binary_accuracy: 1.0000 - val_loss: 1.1936e-04 - val_binary_accuracy: 1.0000\n",
      "Epoch 15/20\n",
      "1280/1280 [==============================] - 0s 67us/step - loss: 1.1543e-04 - binary_accuracy: 1.0000 - val_loss: 5.2230e-05 - val_binary_accuracy: 1.0000\n",
      "Epoch 16/20\n",
      "1280/1280 [==============================] - 0s 66us/step - loss: 5.2477e-05 - binary_accuracy: 1.0000 - val_loss: 2.2902e-05 - val_binary_accuracy: 1.0000\n",
      "Epoch 17/20\n",
      "1280/1280 [==============================] - 0s 67us/step - loss: 2.2359e-05 - binary_accuracy: 1.0000 - val_loss: 9.6851e-06 - val_binary_accuracy: 1.0000\n",
      "Epoch 18/20\n",
      "1280/1280 [==============================] - 0s 69us/step - loss: 9.9936e-06 - binary_accuracy: 1.0000 - val_loss: 4.0214e-06 - val_binary_accuracy: 1.0000\n",
      "Epoch 19/20\n",
      "1280/1280 [==============================] - 0s 70us/step - loss: 4.2140e-06 - binary_accuracy: 1.0000 - val_loss: 1.7294e-06 - val_binary_accuracy: 1.0000\n",
      "Epoch 20/20\n",
      "1280/1280 [==============================] - 0s 63us/step - loss: 1.9223e-06 - binary_accuracy: 1.0000 - val_loss: 8.2026e-07 - val_binary_accuracy: 1.0000\n"
     ]
    }
   ],
   "source": [
    "model = create_model()\n",
    "history = model.fit(X_trainV,\n",
    "                    y_trainV,\n",
    "                    epochs=20,\n",
    "                    batch_size=50,\n",
    "                    validation_data=(x_val, y_val))"
   ]
  },
  {
   "cell_type": "code",
   "execution_count": 57,
   "metadata": {},
   "outputs": [
    {
     "data": {
      "text/plain": [
       "dict_keys(['val_loss', 'val_binary_accuracy', 'loss', 'binary_accuracy'])"
      ]
     },
     "execution_count": 57,
     "metadata": {},
     "output_type": "execute_result"
    }
   ],
   "source": [
    "history_dict = history.history\n",
    "history_dict.keys()"
   ]
  },
  {
   "cell_type": "code",
   "execution_count": 58,
   "metadata": {},
   "outputs": [
    {
     "data": {
      "image/png": "[encoded data removed]",
      "text/plain": [
       "<Figure size 432x288 with 1 Axes>"
      ]
     },
     "metadata": {},
     "output_type": "display_data"
    }
   ],
   "source": [
    "import matplotlib.pyplot as plt\n",
    "\n",
    "acc = history.history['binary_accuracy']\n",
    "val_acc = history.history['val_binary_accuracy']\n",
    "loss = history.history['loss']\n",
    "val_loss = history.history['val_loss']\n",
    "\n",
    "epochs = range(1, len(acc) + 1)\n",
    "\n",
    "# \"bo\" is for \"blue dot\"\n",
    "plt.plot(epochs, loss, 'bo', label='Training loss')\n",
    "# b is for \"solid blue line\"\n",
    "plt.plot(epochs, val_loss, 'b', label='Validation loss')\n",
    "plt.title('Training and validation loss')\n",
    "plt.xlabel('Epochs')\n",
    "plt.ylabel('Loss')\n",
    "plt.legend()\n",
    "\n",
    "plt.show()"
   ]
  },
  {
   "cell_type": "code",
   "execution_count": 59,
   "metadata": {},
   "outputs": [
    {
     "data": {
      "image/png": "[encoded data removed]",
      "text/plain": [
       "<Figure size 432x288 with 1 Axes>"
      ]
     },
     "metadata": {},
     "output_type": "display_data"
    }
   ],
   "source": [
    "plt.clf()   # clear figure\n",
    "acc_values = history_dict['binary_accuracy']\n",
    "val_acc_values = history_dict['val_binary_accuracy']\n",
    "\n",
    "plt.plot(epochs, acc, 'bo', label='Training acc')\n",
    "plt.plot(epochs, val_acc, 'b', label='Validation acc')\n",
    "plt.title('Training and validation accuracy')\n",
    "plt.xlabel('Epochs')\n",
    "plt.ylabel('Acc')\n",
    "plt.legend()\n",
    "\n",
    "plt.show()"
   ]
  },
  {
   "cell_type": "code",
   "execution_count": 60,
   "metadata": {
    "scrolled": true
   },
   "outputs": [
    {
     "name": "stdout",
     "output_type": "stream",
     "text": [
      "Train on 1280 samples, validate on 320 samples\n",
      "Epoch 1/8\n",
      "1280/1280 [==============================] - 0s 338us/step - loss: 0.6254 - binary_accuracy: 0.7383 - val_loss: 0.4701 - val_binary_accuracy: 0.9281\n",
      "Epoch 2/8\n",
      "1280/1280 [==============================] - 0s 64us/step - loss: 0.4113 - binary_accuracy: 0.9242 - val_loss: 0.2987 - val_binary_accuracy: 0.9656\n",
      "Epoch 3/8\n",
      "1280/1280 [==============================] - 0s 68us/step - loss: 0.2583 - binary_accuracy: 0.9570 - val_loss: 0.1781 - val_binary_accuracy: 0.9781\n",
      "Epoch 4/8\n",
      "1280/1280 [==============================] - 0s 75us/step - loss: 0.1621 - binary_accuracy: 0.9688 - val_loss: 0.1142 - val_binary_accuracy: 0.9844\n",
      "Epoch 5/8\n",
      "1280/1280 [==============================] - 0s 72us/step - loss: 0.1050 - binary_accuracy: 0.9805 - val_loss: 0.0709 - val_binary_accuracy: 0.9906\n",
      "Epoch 6/8\n",
      "1280/1280 [==============================] - 0s 71us/step - loss: 0.0671 - binary_accuracy: 0.9906 - val_loss: 0.0437 - val_binary_accuracy: 0.9938\n",
      "Epoch 7/8\n",
      "1280/1280 [==============================] - 0s 72us/step - loss: 0.0415 - binary_accuracy: 0.9961 - val_loss: 0.0251 - val_binary_accuracy: 0.9969\n",
      "Epoch 8/8\n",
      "1280/1280 [==============================] - 0s 66us/step - loss: 0.0245 - binary_accuracy: 0.9977 - val_loss: 0.0151 - val_binary_accuracy: 1.0000\n",
      "320/320 [==============================] - 0s 32us/step\n"
     ]
    }
   ],
   "source": [
    "#Evaluate model with actual test data\n",
    "model = create_model()\n",
    "model.fit(X_trainV,\n",
    "                    y_trainV,\n",
    "                    epochs=8,\n",
    "                    batch_size=50,\n",
    "                    validation_data=(x_val, y_val))\n",
    "results = model.evaluate(X_testV, y_testV)"
   ]
  },
  {
   "cell_type": "code",
   "execution_count": 61,
   "metadata": {},
   "outputs": [
    {
     "name": "stdout",
     "output_type": "stream",
     "text": [
      "[0.36877536922693255, 0.86875]\n"
     ]
    }
   ],
   "source": [
    "print(results)"
   ]
  },
  {
   "cell_type": "markdown",
   "metadata": {},
   "source": [
    "### Address overfitting"
   ]
  },
  {
   "cell_type": "code",
   "execution_count": 62,
   "metadata": {},
   "outputs": [],
   "source": [
    "def drop_model():\n",
    "    model = models.Sequential()\n",
    "    model.add(layers.Dense(8, activation='relu', input_shape=(9284,)))\n",
    "    model.add(layers.Dropout(.5))\n",
    "    model.add(layers.Dense(8, activation='relu'))\n",
    "    model.add(layers.Dropout(.5))\n",
    "    model.add(layers.Dense(1, activation='sigmoid'))\n",
    "    \n",
    "    model.compile(optimizer=optimizers.RMSprop(lr=0.001),\n",
    "              loss=losses.binary_crossentropy,\n",
    "              metrics=[metrics.binary_accuracy])\n",
    "    \n",
    "    return model"
   ]
  },
  {
   "cell_type": "code",
   "execution_count": 63,
   "metadata": {},
   "outputs": [
    {
     "name": "stdout",
     "output_type": "stream",
     "text": [
      "Train on 1280 samples, validate on 320 samples\n",
      "Epoch 1/20\n",
      "1280/1280 [==============================] - 1s 401us/step - loss: 0.6798 - binary_accuracy: 0.5602 - val_loss: 0.6422 - val_binary_accuracy: 0.7531\n",
      "Epoch 2/20\n",
      "1280/1280 [==============================] - 0s 53us/step - loss: 0.6351 - binary_accuracy: 0.6367 - val_loss: 0.5691 - val_binary_accuracy: 0.8969\n",
      "Epoch 3/20\n",
      "1280/1280 [==============================] - 0s 54us/step - loss: 0.5891 - binary_accuracy: 0.7164 - val_loss: 0.5001 - val_binary_accuracy: 0.9156\n",
      "Epoch 4/20\n",
      "1280/1280 [==============================] - 0s 55us/step - loss: 0.5408 - binary_accuracy: 0.7352 - val_loss: 0.4387 - val_binary_accuracy: 0.9344\n",
      "Epoch 5/20\n",
      "1280/1280 [==============================] - 0s 60us/step - loss: 0.4974 - binary_accuracy: 0.7719 - val_loss: 0.3770 - val_binary_accuracy: 0.9500\n",
      "Epoch 6/20\n",
      "1280/1280 [==============================] - 0s 59us/step - loss: 0.4467 - binary_accuracy: 0.7969 - val_loss: 0.3188 - val_binary_accuracy: 0.9688\n",
      "Epoch 7/20\n",
      "1280/1280 [==============================] - 0s 59us/step - loss: 0.4271 - binary_accuracy: 0.8109 - val_loss: 0.2851 - val_binary_accuracy: 0.9719\n",
      "Epoch 8/20\n",
      "1280/1280 [==============================] - 0s 57us/step - loss: 0.3983 - binary_accuracy: 0.8187 - val_loss: 0.2441 - val_binary_accuracy: 0.9781\n",
      "Epoch 9/20\n",
      "1280/1280 [==============================] - 0s 54us/step - loss: 0.3595 - binary_accuracy: 0.8578 - val_loss: 0.2049 - val_binary_accuracy: 0.9750\n",
      "Epoch 10/20\n",
      "1280/1280 [==============================] - 0s 53us/step - loss: 0.3494 - binary_accuracy: 0.8328 - val_loss: 0.1788 - val_binary_accuracy: 0.9813\n",
      "Epoch 11/20\n",
      "1280/1280 [==============================] - 0s 54us/step - loss: 0.3213 - binary_accuracy: 0.8562 - val_loss: 0.1588 - val_binary_accuracy: 0.9813\n",
      "Epoch 12/20\n",
      "1280/1280 [==============================] - 0s 57us/step - loss: 0.2962 - binary_accuracy: 0.8695 - val_loss: 0.1343 - val_binary_accuracy: 0.9844\n",
      "Epoch 13/20\n",
      "1280/1280 [==============================] - 0s 55us/step - loss: 0.2916 - binary_accuracy: 0.8648 - val_loss: 0.1205 - val_binary_accuracy: 0.9875\n",
      "Epoch 14/20\n",
      "1280/1280 [==============================] - 0s 57us/step - loss: 0.2810 - binary_accuracy: 0.8641 - val_loss: 0.1009 - val_binary_accuracy: 0.9906\n",
      "Epoch 15/20\n",
      "1280/1280 [==============================] - 0s 60us/step - loss: 0.2630 - binary_accuracy: 0.8727 - val_loss: 0.0919 - val_binary_accuracy: 0.9906\n",
      "Epoch 16/20\n",
      "1280/1280 [==============================] - 0s 63us/step - loss: 0.2516 - binary_accuracy: 0.8773 - val_loss: 0.0794 - val_binary_accuracy: 0.9906\n",
      "Epoch 17/20\n",
      "1280/1280 [==============================] - 0s 64us/step - loss: 0.2244 - binary_accuracy: 0.9016 - val_loss: 0.0702 - val_binary_accuracy: 0.9938\n",
      "Epoch 18/20\n",
      "1280/1280 [==============================] - 0s 58us/step - loss: 0.2383 - binary_accuracy: 0.8828 - val_loss: 0.0590 - val_binary_accuracy: 0.9938\n",
      "Epoch 19/20\n",
      "1280/1280 [==============================] - 0s 55us/step - loss: 0.2170 - binary_accuracy: 0.8945 - val_loss: 0.0546 - val_binary_accuracy: 0.9969\n",
      "Epoch 20/20\n",
      "1280/1280 [==============================] - 0s 55us/step - loss: 0.2374 - binary_accuracy: 0.8727 - val_loss: 0.0520 - val_binary_accuracy: 0.9969\n"
     ]
    }
   ],
   "source": [
    "drop_model = drop_model()\n",
    "history = drop_model.fit(X_trainV,\n",
    "                    y_trainV,\n",
    "                    epochs=20,\n",
    "                    batch_size=50,\n",
    "                    validation_data=(x_val, y_val))"
   ]
  },
  {
   "cell_type": "code",
   "execution_count": 64,
   "metadata": {},
   "outputs": [
    {
     "name": "stdout",
     "output_type": "stream",
     "text": [
      "Train on 1280 samples, validate on 320 samples\n",
      "Epoch 1/16\n",
      "1280/1280 [==============================] - 0s 61us/step - loss: 0.2212 - binary_accuracy: 0.8820 - val_loss: 0.0456 - val_binary_accuracy: 0.9969\n",
      "Epoch 2/16\n",
      "1280/1280 [==============================] - 0s 55us/step - loss: 0.2098 - binary_accuracy: 0.8836 - val_loss: 0.0413 - val_binary_accuracy: 0.9969\n",
      "Epoch 3/16\n",
      "1280/1280 [==============================] - 0s 53us/step - loss: 0.2100 - binary_accuracy: 0.8969 - val_loss: 0.0386 - val_binary_accuracy: 0.9969\n",
      "Epoch 4/16\n",
      "1280/1280 [==============================] - 0s 57us/step - loss: 0.1941 - binary_accuracy: 0.9016 - val_loss: 0.0356 - val_binary_accuracy: 0.9969\n",
      "Epoch 5/16\n",
      "1280/1280 [==============================] - 0s 59us/step - loss: 0.1908 - binary_accuracy: 0.8984 - val_loss: 0.0339 - val_binary_accuracy: 0.9969\n",
      "Epoch 6/16\n",
      "1280/1280 [==============================] - 0s 62us/step - loss: 0.1861 - binary_accuracy: 0.8961 - val_loss: 0.0294 - val_binary_accuracy: 0.9969\n",
      "Epoch 7/16\n",
      "1280/1280 [==============================] - 0s 61us/step - loss: 0.1954 - binary_accuracy: 0.9031 - val_loss: 0.0315 - val_binary_accuracy: 0.9969\n",
      "Epoch 8/16\n",
      "1280/1280 [==============================] - 0s 58us/step - loss: 0.2044 - binary_accuracy: 0.8859 - val_loss: 0.0282 - val_binary_accuracy: 0.9969\n",
      "Epoch 9/16\n",
      "1280/1280 [==============================] - 0s 59us/step - loss: 0.1684 - binary_accuracy: 0.9086 - val_loss: 0.0243 - val_binary_accuracy: 0.9969\n",
      "Epoch 10/16\n",
      "1280/1280 [==============================] - 0s 61us/step - loss: 0.1698 - binary_accuracy: 0.9078 - val_loss: 0.0232 - val_binary_accuracy: 0.9969\n",
      "Epoch 11/16\n",
      "1280/1280 [==============================] - 0s 53us/step - loss: 0.1656 - binary_accuracy: 0.9094 - val_loss: 0.0202 - val_binary_accuracy: 0.9969\n",
      "Epoch 12/16\n",
      "1280/1280 [==============================] - 0s 57us/step - loss: 0.1768 - binary_accuracy: 0.9000 - val_loss: 0.0179 - val_binary_accuracy: 0.9969\n",
      "Epoch 13/16\n",
      "1280/1280 [==============================] - 0s 55us/step - loss: 0.1838 - binary_accuracy: 0.8984 - val_loss: 0.0180 - val_binary_accuracy: 0.9969\n",
      "Epoch 14/16\n",
      "1280/1280 [==============================] - 0s 54us/step - loss: 0.1860 - binary_accuracy: 0.8945 - val_loss: 0.0205 - val_binary_accuracy: 0.9969\n",
      "Epoch 15/16\n",
      "1280/1280 [==============================] - 0s 57us/step - loss: 0.1816 - binary_accuracy: 0.9031 - val_loss: 0.0194 - val_binary_accuracy: 0.9969\n",
      "Epoch 16/16\n",
      "1280/1280 [==============================] - 0s 58us/step - loss: 0.1584 - binary_accuracy: 0.9102 - val_loss: 0.0158 - val_binary_accuracy: 0.9969\n",
      "320/320 [==============================] - 0s 28us/step\n"
     ]
    }
   ],
   "source": [
    "#Evaluate model with actual test data\n",
    "#drop_model = drop_model()\n",
    "drop_model.fit(X_trainV,\n",
    "                    y_trainV,\n",
    "                    epochs=16,\n",
    "                    batch_size=50,\n",
    "                    validation_data=(x_val, y_val))\n",
    "results = drop_model.evaluate(X_testV, y_testV)"
   ]
  },
  {
   "cell_type": "code",
   "execution_count": 65,
   "metadata": {},
   "outputs": [
    {
     "name": "stdout",
     "output_type": "stream",
     "text": [
      "[0.5691868931055069, 0.85]\n"
     ]
    }
   ],
   "source": [
    "print(results)"
   ]
  },
  {
   "cell_type": "markdown",
   "metadata": {},
   "source": [
    "### Try new tokenizer"
   ]
  },
  {
   "cell_type": "code",
   "execution_count": 66,
   "metadata": {},
   "outputs": [
    {
     "name": "stdout",
     "output_type": "stream",
     "text": [
      "Found 10275 unique tokesn.\n"
     ]
    }
   ],
   "source": [
    "from keras.preprocessing.text import Tokenizer\n",
    "from keras.preprocessing.sequence import pad_sequences\n",
    "\n",
    "tokenizer = Tokenizer(num_words=1000)\n",
    "tokenizer.fit_on_texts(F)\n",
    "\n",
    "sequences = tokenizer.texts_to_sequences(F)\n",
    "\n",
    "one_hot_results = tokenizer.texts_to_matrix(F, mode='binary')\n",
    "word_index = tokenizer.word_index\n",
    "print('Found %s unique tokesn.' % len(word_index))\n",
    "\n",
    "data = pad_sequences(sequences, maxlen=100)"
   ]
  }
 ],
 "metadata": {
  "kernelspec": {
   "display_name": "Python 3",
   "language": "python",
   "name": "python3"
  },
  "language_info": {
   "codemirror_mode": {
    "name": "ipython",
    "version": 3
   },
   "file_extension": ".py",
   "mimetype": "text/x-python",
   "name": "python",
   "nbconvert_exporter": "python",
   "pygments_lexer": "ipython3",
   "version": "3.6.5"
  }
 },
 "nbformat": 4,
 "nbformat_minor": 2
}
